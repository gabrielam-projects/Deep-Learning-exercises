{
 "cells": [
  {
   "cell_type": "code",
   "execution_count": 1,
   "metadata": {},
   "outputs": [],
   "source": [
    "import torch\n",
    "import torch.nn as nn\n",
    "import math"
   ]
  },
  {
   "cell_type": "markdown",
   "metadata": {},
   "source": [
    "Verificación de GPU en uso:"
   ]
  },
  {
   "cell_type": "code",
   "execution_count": 5,
   "metadata": {},
   "outputs": [
    {
     "name": "stdout",
     "output_type": "stream",
     "text": [
      "GPU detectada: NVIDIA GeForce GTX 1080\n",
      "Memoria disponible: 8.50 GB\n",
      "cuda:0\n"
     ]
    }
   ],
   "source": [
    "# Verificar si la GPU está disponible\n",
    "if torch.cuda.is_available():\n",
    "    print(f\"GPU detectada: {torch.cuda.get_device_name(0)}\")\n",
    "    print(f\"Memoria disponible: {torch.cuda.get_device_properties(0).total_memory / 1e9:.2f} GB\")\n",
    "else:\n",
    "    print(\"No se detectó GPU, se utilizará la CPU.\")\n",
    "    \n",
    "\n",
    "tensor = torch.randn(1000).to('cuda')\n",
    "print(tensor.device)"
   ]
  },
  {
   "cell_type": "markdown",
   "metadata": {},
   "source": [
    "*Scaled Dot Product Attention:*\n",
    "Calcula la atención entre los vectores de consulta (query), clave (key) y valor (value)."
   ]
  },
  {
   "cell_type": "code",
   "execution_count": 4,
   "metadata": {},
   "outputs": [],
   "source": [
    "class ScaledDotProductAttention(nn.Module):\n",
    "    def __init__(self):\n",
    "        super(ScaledDotProductAttention, self).__init__()\n",
    "\n",
    "    def forward(self, Q, K, V, mask=None):\n",
    "        d_k = Q.size(-1) # Escala el producto punto por la raíz cuadrada de d_k\n",
    "        scores = torch.matmul(Q, K.transpose(-2, -1)) / math.sqrt(d_k)\n",
    "\n",
    "        if mask is not None:\n",
    "            scores = scores.masked_fill(mask == 0, -1e9) # Enmascara valores para evitar la atención en ciertas posiciones\n",
    "\n",
    "        attention = torch.nn.functional.softmax(scores, dim=-1) # Aplica softmax para obtener los pesos de atención\n",
    "        output = torch.matmul(attention, V) # Multiplica los pesos de atención por los valores\n",
    "        return output, attention"
   ]
  },
  {
   "cell_type": "markdown",
   "metadata": {},
   "source": [
    "*MultiHead Attention:*\n",
    "Permite calcular múltiples cabezas de atención en paralelo."
   ]
  },
  {
   "cell_type": "code",
   "execution_count": 20,
   "metadata": {},
   "outputs": [],
   "source": [
    "class MultiHeadAttention(nn.Module):\n",
    "    def __init__(self, d_model, num_heads):\n",
    "        super(MultiHeadAttention, self).__init__()\n",
    "        assert d_model % num_heads == 0\n",
    "        self.d_k = d_model // num_heads # Tamaño de la dimensión de cada cabeza de atención\n",
    "\n",
    "        self.num_heads = num_heads\n",
    "\n",
    "        # Capas lineales para proyectar las consultas, claves y valores en las cabezas de atención\n",
    "        self.query = nn.Linear(d_model, d_model)\n",
    "        self.key = nn.Linear(d_model, d_model)\n",
    "        self.value = nn.Linear(d_model, d_model)\n",
    "        \n",
    "        # Capa lineal para proyectar la salida de las cabezas de atención\n",
    "        self.output = nn.Linear(d_model, d_model)\n",
    "\n",
    "    def forward(self, Q, K, V, mask=None):\n",
    "        batch_size = Q.size(0)\n",
    "\n",
    "        # Proyecciones lineales y cambio de forma para aplicar atención por cada cabeza\n",
    "        Q = self.query(Q).view(batch_size, -1, self.num_heads, self.d_k).transpose(1, 2)\n",
    "        K = self.key(K).view(batch_size, -1, self.num_heads, self.d_k).transpose(1, 2)\n",
    "        V = self.value(V).view(batch_size, -1, self.num_heads, self.d_k).transpose(1, 2)\n",
    "\n",
    "        if mask is not None:\n",
    "            mask = mask.unsqueeze(1)\n",
    "\n",
    "        output, attention = ScaledDotProductAttention()(Q, K, V, mask)\n",
    "\n",
    "        # Reorganización de la salida y consolidación de todas las cabezas en una sola representación\n",
    "        output = output.transpose(1, 2).contiguous().view(batch_size, -1, self.num_heads * self.d_k)\n",
    "        return self.output(output), attention"
   ]
  },
  {
   "cell_type": "markdown",
   "metadata": {},
   "source": [
    "*FeedForward:* Red completamente conectada que ayuda a la transformación no lineal de las representaciones."
   ]
  },
  {
   "cell_type": "code",
   "execution_count": 21,
   "metadata": {},
   "outputs": [],
   "source": [
    "class FeedForward(nn.Module):\n",
    "    def __init__(self, d_model, d_ff):\n",
    "        super(FeedForward, self).__init__()\n",
    "\n",
    "        # Dos capas lineales con una activación ReLU intermedia\n",
    "        self.linear1 = nn.Linear(d_model, d_ff)\n",
    "        self.dropout = nn.Dropout(0.1)  # Dropout layer to prevent overfitting, with a probability of 0.1 (10%)  # 0.1 is a common dropout rate in Transformer models.\n",
    "        self.linear2 = nn.Linear(d_ff, d_model)\n",
    "\n",
    "    def forward(self, x):\n",
    "        return self.linear2(self.dropout(torch.nn.functional.relu(self.linear1(x))))"
   ]
  },
  {
   "cell_type": "markdown",
   "metadata": {},
   "source": [
    "*Transformer Layer:* Combina las capas de MultiHead Attention y Feed Forward con mecanismos de normalización y conexiones residuales."
   ]
  },
  {
   "cell_type": "code",
   "execution_count": 22,
   "metadata": {},
   "outputs": [],
   "source": [
    "class TransformerLayer(nn.Module):\n",
    "    def __init__(self, d_model, num_heads, d_ff):\n",
    "        super(TransformerLayer, self).__init__()\n",
    "        self.attention = MultiHeadAttention(d_model, num_heads)\n",
    "        self.feed_forward = FeedForward(d_model, d_ff)\n",
    "\n",
    "        # Capas de normalización y dropout para mejorar estabilidad y evitar sobreajuste\n",
    "        self.norm1 = nn.LayerNorm(d_model)\n",
    "        self.norm2 = nn.LayerNorm(d_model)\n",
    "        self.dropout1 = nn.Dropout(0.1)\n",
    "        self.dropout2 = nn.Dropout(0.1)\n",
    "\n",
    "    def forward(self, x, mask=None):\n",
    "        # Atención multicabeza con residual y normalización\n",
    "        attn_output, _ = self.attention(x, x, x, mask)\n",
    "        x = x + self.dropout1(attn_output)\n",
    "        x = self.norm1(x)\n",
    "\n",
    "        # Feed forward con residual y normalización\n",
    "        ff_output = self.feed_forward(x)\n",
    "        x = x + self.dropout2(ff_output)\n",
    "        x = self.norm2(x)\n",
    "        return x"
   ]
  },
  {
   "cell_type": "markdown",
   "metadata": {},
   "source": [
    "*Transformer:* Apila múltiples capas de TransformerLayer para crear una arquitectura completa."
   ]
  },
  {
   "cell_type": "code",
   "execution_count": 23,
   "metadata": {},
   "outputs": [],
   "source": [
    "class Transformer(nn.Module):\n",
    "    def __init__(self, input_dim, d_model, num_heads, d_ff, num_layers):\n",
    "        super(Transformer, self).__init__()\n",
    "\n",
    "        # Capa de embedding para convertir tokens en vectores densos\n",
    "        self.embedding = nn.Embedding(input_dim, d_model)\n",
    "\n",
    "        self.layers = nn.ModuleList([TransformerLayer(d_model, num_heads, d_ff) for _ in range(num_layers)])\n",
    "        self.fc_out = nn.Linear(d_model, input_dim) # Capa de salida para proyectar de vuelta a la dimensión original\n",
    "       \n",
    "    def forward(self, x, mask=None):\n",
    "        x = self.embedding(x)\n",
    "        for layer in self.layers:\n",
    "            x = layer(x, mask)\n",
    "        return self.fc_out(x)"
   ]
  },
  {
   "cell_type": "code",
   "execution_count": 24,
   "metadata": {},
   "outputs": [
    {
     "name": "stdout",
     "output_type": "stream",
     "text": [
      "Dimensiones de la salida: torch.Size([2, 10, 10000])\n"
     ]
    }
   ],
   "source": [
    "# Definición de hiperparámetros\n",
    "input_dim = 10000  # Tamaño del vocabulario\n",
    "d_model = 512\n",
    "num_heads = 8\n",
    "d_ff = 2048\n",
    "num_layers = 6\n",
    "\n",
    "model = Transformer(input_dim=input_dim, d_model=d_model, num_heads=num_heads, d_ff=d_ff, num_layers=num_layers)\n",
    "\n",
    "# Crear un ejemplo de secuencia de entrada\n",
    "input_sequence = torch.randint(0, input_dim, (2, 10))  # Secuencia de ejemplo\n",
    "\n",
    "# Pasar la secuencia al modelo\n",
    "output = model(input_sequence)\n",
    "print(\"Dimensiones de la salida:\", output.shape)"
   ]
  }
 ],
 "metadata": {
  "kernelspec": {
   "display_name": ".venv",
   "language": "python",
   "name": "python3"
  },
  "language_info": {
   "codemirror_mode": {
    "name": "ipython",
    "version": 3
   },
   "file_extension": ".py",
   "mimetype": "text/x-python",
   "name": "python",
   "nbconvert_exporter": "python",
   "pygments_lexer": "ipython3",
   "version": "3.12.7"
  }
 },
 "nbformat": 4,
 "nbformat_minor": 2
}
