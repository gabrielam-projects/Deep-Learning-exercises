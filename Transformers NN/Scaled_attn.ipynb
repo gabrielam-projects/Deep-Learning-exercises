{
 "cells": [
  {
   "cell_type": "code",
   "execution_count": 2,
   "metadata": {},
   "outputs": [],
   "source": [
    "import torch\n",
    "import torch.nn.functional as F\n",
    "import matplotlib.pyplot as plt\n",
    "import seaborn as sns\n",
    "\n",
    "# Definimos los vectores Q, K y V de manera manual para facilitar la comprensión\n",
    "Q = torch.tensor([[1.0, 0.0], [0.0, 1.0], [1.0, 1.0]])  # Query: 3 tokens, dimensión 2\n",
    "K = torch.tensor([[1.0, 0.0], [0.0, 1.0], [1.0, 1.0]])  # Key: 3 tokens, dimensión 2\n",
    "V = torch.tensor([[1.0, 2.0], [3.0, 4.0], [5.0, 6.0]])  # Value: 3 tokens, dimensión 2"
   ]
  }
 ],
 "metadata": {
  "kernelspec": {
   "display_name": ".venv",
   "language": "python",
   "name": "python3"
  },
  "language_info": {
   "codemirror_mode": {
    "name": "ipython",
    "version": 3
   },
   "file_extension": ".py",
   "mimetype": "text/x-python",
   "name": "python",
   "nbconvert_exporter": "python",
   "pygments_lexer": "ipython3",
   "version": "3.12.7"
  }
 },
 "nbformat": 4,
 "nbformat_minor": 2
}
